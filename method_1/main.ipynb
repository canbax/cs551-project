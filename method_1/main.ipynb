{
 "nbformat": 4,
 "nbformat_minor": 2,
 "metadata": {
  "language_info": {
   "name": "python",
   "codemirror_mode": {
    "name": "ipython",
    "version": 3
   },
   "version": "3.7.4"
  },
  "orig_nbformat": 2,
  "file_extension": ".py",
  "mimetype": "text/x-python",
  "name": "python",
  "npconvert_exporter": "python",
  "pygments_lexer": "ipython3",
  "version": 3
 },
 "cells": [
  {
   "source": [
    "import numpy as np\n",
    "from sklearn.metrics import mean_squared_log_error\n",
    "y_true = np.array([3, 5, 2.5, 7])\n",
    "y_pred = np.array([2.5, 5, 4, 8])\n",
    "e1 = mean_squared_log_error(y_true, y_pred)\n",
    "print(np.sqrt(e1))\n",
    "e2 = np.sqrt(np.mean((np.log(1 + y_true) - np.log(1 + y_pred))**2))\n",
    "print (e2)\n",
    ""
   ],
   "cell_type": "code",
   "outputs": [
    {
     "output_type": "stream",
     "name": "stdout",
     "text": "0.19932416558108\n0.19932416558108\n"
    }
   ],
   "metadata": {},
   "execution_count": 6
  },
  {
   "source": [
    "s = pd.Series(list('abca'))\n",
    "s"
   ],
   "cell_type": "code",
   "outputs": [
    {
     "output_type": "execute_result",
     "data": {
      "text/plain": "0    a\n1    b\n2    c\n3    a\ndtype: object"
     },
     "metadata": {},
     "execution_count": 10
    }
   ],
   "metadata": {},
   "execution_count": 10
  }
 ]
}